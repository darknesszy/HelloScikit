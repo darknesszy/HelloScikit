{
 "cells": [
  {
   "cell_type": "code",
   "execution_count": 1,
   "metadata": {},
   "outputs": [],
   "source": [
    "import numpy as np\n",
    "import pandas as pd\n",
    "import pickle\n",
    "\n",
    "hm_days = 7"
   ]
  },
  {
   "cell_type": "code",
   "execution_count": 38,
   "metadata": {},
   "outputs": [
    {
     "output_type": "execute_result",
     "data": {
      "text/plain": "(array(['TSLA', 'LK', 'AAPL', 'AMZN', 'BIDU', 'KO', 'QCOM', 'FB', 'TCOM',\n        'AMD', 'DIS', 'DOYU', 'INTC', 'DELL', 'JD', 'BABA', 'EBAY', 'ATVI',\n        'GOOGL', 'MSFT'], dtype=object),\n                   TSLA    LK        AAPL         AMZN        BIDU         KO  \\\n Date                                                                           \n 2009-12-31    0.000000  0.00   26.061205   134.520004   41.123001  19.278732   \n 2010-01-04    0.000000  0.00   26.466835   133.899994   41.002998  19.292267   \n 2010-01-05    0.000000  0.00   26.512596   134.690002   40.590000  19.058893   \n 2010-01-06    0.000000  0.00   26.090879   132.250000   41.250000  19.052124   \n 2010-01-07    0.000000  0.00   26.042646   130.000000   40.463001  19.004770   \n ...                ...   ...         ...          ...         ...        ...   \n 2020-04-27  798.750000  4.39  282.405548  2376.000000  100.559998  46.779999   \n 2020-04-28  769.119995  4.39  277.827911  2314.080078   97.129997  46.740002   \n 2020-04-29  800.510010  4.39  286.953247  2372.709961   99.669998  47.119999   \n 2020-04-30  781.880005  4.39  293.006836  2474.000000  100.930000  45.889999   \n 2020-05-01  701.320007  4.39  288.289612  2286.040039   96.019997  45.599998   \n \n                  QCOM          FB       TCOM        AMD  ...       ATVI  \\\n Date                                                     ...              \n 2009-12-31  34.760757    0.000000  17.965000   9.680000  ...   9.956354   \n 2010-01-04  35.271713    0.000000  18.125000   9.700000  ...  10.126624   \n 2010-01-05  36.120834    0.000000  19.137501   9.710000  ...  10.144546   \n 2010-01-06  35.767658    0.000000  18.732500   9.570000  ...  10.090778   \n 2010-01-07  36.804634    0.000000  18.277500   9.470000  ...   9.848815   \n ...               ...         ...        ...        ...  ...        ...   \n 2020-04-27  75.396439  187.500000  24.440001  56.490002  ...  67.059998   \n 2020-04-28  74.711739  182.910004  24.469999  55.509998  ...  63.860001   \n 2020-04-29  78.363472  194.190002  25.910000  53.660000  ...  64.790001   \n 2020-04-30  78.065773  204.710007  25.760000  52.389999  ...  63.730000   \n 2020-05-01  75.059052  202.270004  24.160000  49.880001  ...  64.720001   \n \n                   GOOGL        MSFT     KO_1d     KO_2d     KO_3d     KO_4d  \\\n Date                                                                          \n 2009-12-31   310.300293   23.858992  0.000702 -0.011403 -0.011754 -0.014211   \n 2010-01-04   313.688690   24.226894 -0.012097 -0.012448 -0.014902 -0.033135   \n 2010-01-05   312.307312   24.234720 -0.000355 -0.002840 -0.021296 -0.001420   \n 2010-01-06   304.434448   24.085989 -0.002485 -0.020948 -0.001065  0.009764   \n 2010-01-07   297.347351   23.835503 -0.018508  0.001424  0.012280  0.014950   \n ...                 ...         ...       ...       ...       ...       ...   \n 2020-04-27  1270.859985  173.566605 -0.000855  0.007268 -0.019025 -0.025224   \n 2020-04-28  1232.589966  169.338379  0.008130 -0.018186 -0.024390  0.000000   \n 2020-04-29  1342.180054  176.937210 -0.026104 -0.032258  0.000000  0.000000   \n 2020-04-30  1346.699951  178.712280 -0.006319  0.000000  0.000000  0.000000   \n 2020-05-01  1317.319946  174.085175  0.000000  0.000000  0.000000  0.000000   \n \n                KO_5d     KO_6d     KO_7d  \n Date                                      \n 2009-12-31 -0.032456 -0.012807 -0.002105  \n 2010-01-04 -0.013499 -0.002805 -0.000175  \n 2010-01-05  0.009405  0.012067  0.013842  \n 2010-01-06  0.012427  0.014202 -0.000710  \n 2010-01-07  0.016729  0.001780  0.004094  \n ...              ...       ...       ...  \n 2020-04-27  0.000000  0.000000  0.000000  \n 2020-04-28  0.000000  0.000000  0.000000  \n 2020-04-29  0.000000  0.000000  0.000000  \n 2020-04-30  0.000000  0.000000  0.000000  \n 2020-05-01  0.000000  0.000000  0.000000  \n \n [2601 rows x 27 columns])"
     },
     "metadata": {},
     "execution_count": 38
    }
   ],
   "source": [
    "def process_data_for_labels(ticker):\n",
    "    df = pd.read_csv('icare_joined_closes.csv', index_col=0)\n",
    "    tickers = df.columns.values\n",
    "    df.fillna(0, inplace=True)\n",
    "\n",
    "    for i in range(1, hm_days+1):\n",
    "        df['{}_{}d'.format(ticker, i)] = (df[ticker].shift(-i) - df[ticker]) / df[ticker]   \n",
    "        \n",
    "    df.fillna(0, inplace=True)\n",
    "    return tickers, df\n",
    "\n",
    "process_data_for_labels('KO')"
   ]
  },
  {
   "cell_type": "code",
   "execution_count": 58,
   "metadata": {},
   "outputs": [],
   "source": [
    "from collections import Counter\n",
    "\n",
    "def buy_sell_hold(*args):\n",
    "    cols = [c for c in args]\n",
    "    requirement = 0.02\n",
    "    for col in cols:\n",
    "        # 股价上升5%\n",
    "        if col > requirement: \n",
    "            return 1\n",
    "        # 股价降低5%\n",
    "        elif col < -requirement: \n",
    "            return -1\n",
    "    # 股价没有（任何？）变化\n",
    "    return 0\n",
    "\n",
    "def extract_featuresets(ticker):\n",
    "    tickers, df =process_data_for_labels(ticker)\n",
    "\n",
    "    df['{}_target'.format(ticker)] = list(\n",
    "        map(\n",
    "            buy_sell_hold, \n",
    "            *[df['{}_{}d'.format(ticker, i)]for i in range(1, hm_days+1)]\n",
    "        )\n",
    "    )\n",
    "\n",
    "    vals = df['{}_target'.format(ticker)].values\n",
    "    str_vals = [str(i) for i in vals]\n",
    "    print('Data spread:',Counter(str_vals))\n",
    "    df.fillna(0,inplace=True)\n",
    "\n",
    "    df = df.replace([np.inf, -np.inf], np.nan)\n",
    "    df.dropna(inplace=True)\n",
    "    df_vals = df[[ticker for ticker in tickers]]. pct_change()\n",
    "    df_vals = df_vals.replace([np.inf, -np.inf], 0)\n",
    "    df_vals.fillna(0,inplace=True)\n",
    "\n",
    "    X = df_vals.values\n",
    "    y = df['{}_target'.format(ticker)].values\n",
    "\n",
    "    return X, y, df\n",
    "\n",
    "# extract_featuresets('KO')"
   ]
  },
  {
   "cell_type": "code",
   "execution_count": 59,
   "metadata": {},
   "outputs": [
    {
     "output_type": "stream",
     "name": "stdout",
     "text": "Data spread: Counter({'1': 1358, '-1': 1078, '0': 165})\nAccuracy 0.5192604006163328\nPredicted spread: Counter({1: 506, -1: 139, 0: 4})\n"
    },
    {
     "output_type": "execute_result",
     "data": {
      "text/plain": "0.5192604006163328"
     },
     "metadata": {},
     "execution_count": 59
    }
   ],
   "source": [
    "from sklearn import svm, neighbors\n",
    "from sklearn.model_selection import train_test_split\n",
    "from sklearn.ensemble import VotingClassifier, RandomForestClassifier\n",
    "\n",
    "def do_ml(ticker):\n",
    "    X, y, df = extract_featuresets(ticker)\n",
    "\n",
    "    X_train, X_test, y_train, y_test = train_test_split(\n",
    "        X, y, test_size = 0.25\n",
    "    )\n",
    "\n",
    "    # clf = neighbors.KNeighborsClassifier()\n",
    "    clf = VotingClassifier([\n",
    "        ('lsvc', svm.LinearSVC()),\n",
    "        ('knn', neighbors.KNeighborsClassifier()),\n",
    "        ('rfor', RandomForestClassifier())\n",
    "    ])\n",
    "\n",
    "    clf.fit(X_train, y_train)\n",
    "    confidence = clf.score(X_test, y_test)\n",
    "    print('Accuracy', confidence)\n",
    "    predictions = clf.predict(X_test)\n",
    "    print('Predicted spread:', Counter(predictions))\n",
    "\n",
    "    return confidence\n",
    "\n",
    "do_ml('TSLA')"
   ]
  },
  {
   "cell_type": "code",
   "execution_count": null,
   "metadata": {},
   "outputs": [],
   "source": []
  }
 ],
 "metadata": {
  "language_info": {
   "codemirror_mode": {
    "name": "ipython",
    "version": 3
   },
   "file_extension": ".py",
   "mimetype": "text/x-python",
   "name": "python",
   "nbconvert_exporter": "python",
   "pygments_lexer": "ipython3",
   "version": "3.8.3-final"
  },
  "orig_nbformat": 2,
  "kernelspec": {
   "name": "python38364bithelloscikitvenvd4b703f1e27c4274ae8fba48172ee4e4",
   "display_name": "Python 3.8.3 64-bit ('HelloScikit': venv)"
  }
 },
 "nbformat": 4,
 "nbformat_minor": 2
}